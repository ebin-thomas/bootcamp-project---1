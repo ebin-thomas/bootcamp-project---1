{
  "nbformat": 4,
  "nbformat_minor": 0,
  "metadata": {
    "colab": {
      "name": "Untitled0.ipynb",
      "provenance": [],
      "collapsed_sections": []
    },
    "kernelspec": {
      "name": "python3",
      "display_name": "Python 3"
    },
    "language_info": {
      "name": "python"
    }
  },
  "cells": [
    {
      "cell_type": "code",
      "metadata": {
        "colab": {
          "base_uri": "https://localhost:8080/"
        },
        "id": "TJU0wHjTRaEu",
        "outputId": "a5eae6de-8dc4-4e24-85ff-dd07fbfaba12"
      },
      "source": [
        "import hashlib\n",
        "hash_obj = hashlib.md5(b'Hello world !')\n",
        "print(hash_obj.hexdigest())"
      ],
      "execution_count": 6,
      "outputs": [
        {
          "output_type": "stream",
          "text": [
            "67c18d060479c5d867c9b91c80edeb4c\n"
          ],
          "name": "stdout"
        }
      ]
    }
  ]
}